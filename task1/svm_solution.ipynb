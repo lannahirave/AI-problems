{
 "cells": [
  {
   "cell_type": "code",
   "execution_count": null,
   "metadata": {},
   "outputs": [],
   "source": [
    "# Імпортуємо необхідні бібліотеки\n",
    "import pandas as pd\n",
    "import numpy as np"
   ]
  },
  {
   "cell_type": "code",
   "execution_count": null,
   "metadata": {},
   "outputs": [],
   "source": [
    "# Завантажуємо датасет\n",
    "path_csv = \"./IRIS.csv\"\n",
    "# Завантаження даних\n",
    "data = pd.read_csv(path_csv)"
   ]
  },
  {
   "cell_type": "code",
   "execution_count": null,
   "metadata": {},
   "outputs": [],
   "source": [
    "# Розділяємо дані на ознаки та цільову змінну\n",
    "X = data[['sepal_length', 'sepal_width', 'petal_length', 'petal_width']].values\n",
    "y = data['species'].values\n"
   ]
  },
  {
   "cell_type": "code",
   "execution_count": null,
   "metadata": {},
   "outputs": [],
   "source": [
    "# Функція для побудови моделі методу опорних векторів (SVM)\n",
    "def svm(X, y):\n",
    "    # Ініціалізуємо параметри SVM: ваги, зсув і регуляризаційний параметр\n",
    "    w = np.zeros(X.shape[1])\n",
    "    b = 0\n",
    "    C = 1.0  # Регуляризаційний параметр\n",
    "\n",
    "    # Функція для обчислення відстані між точкою та гіперплощиною\n",
    "    def distance(x):\n",
    "        return np.dot(w, x) + b\n",
    "\n",
    "    # Функція для оновлення параметрів SVM\n",
    "    def update_params(x, target):\n",
    "        nonlocal w, b\n",
    "        w += C * target * x\n",
    "        b += C * target\n",
    "\n",
    "    # Функція для навчання SVM\n",
    "    def train(X, y):\n",
    "        num_samples, num_features = X.shape\n",
    "        learning_rate = 0.01\n",
    "        num_iterations = 1000\n",
    "\n",
    "        for _ in range(num_iterations):\n",
    "            for i in range(num_samples):\n",
    "                if y[i] * distance(X[i]) < 1:\n",
    "                    update_params(X[i], y[i])\n",
    "\n",
    "    # Навчаємо SVM\n",
    "    train(X, y)\n",
    "\n",
    "    return w, b\n",
    "\n",
    "# Функція для класифікації нового прикладу\n",
    "def predict(w, b, x):\n",
    "    if np.dot(w, x) + b > 0:\n",
    "        return 'Iris-versicolor'\n",
    "    else:\n",
    "        return 'Iris-setosa'\n"
   ]
  },
  {
   "cell_type": "code",
   "execution_count": null,
   "metadata": {},
   "outputs": [],
   "source": [
    "\n",
    "\n",
    "# Приклад використання:\n",
    "# Тестова точка\n",
    "\n",
    "test_point = np.array([4.2, 2.7, 5.4, 1.6])\n",
    "\n",
    "# Навчаємо SVM та отримуємо параметри w та b\n",
    "w, b = svm(X, y)\n",
    "\n",
    "# Проводимо класифікацію тестової точки\n",
    "predicted_class = predict(w, b, test_point)\n",
    "print(\"Predicted Class:\", predicted_class)\n"
   ]
  },
  {
   "cell_type": "code",
   "execution_count": null,
   "metadata": {},
   "outputs": [],
   "source": []
  }
 ],
 "metadata": {
  "language_info": {
   "name": "python"
  },
  "orig_nbformat": 4
 },
 "nbformat": 4,
 "nbformat_minor": 2
}
