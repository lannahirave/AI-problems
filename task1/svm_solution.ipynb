{
 "cells": [
  {
   "cell_type": "code",
   "execution_count": 34,
   "metadata": {},
   "outputs": [],
   "source": [
    "# Імпортуємо необхідні бібліотеки\n",
    "import pandas as pd\n",
    "import numpy as np"
   ]
  },
  {
   "cell_type": "code",
   "execution_count": 35,
   "metadata": {},
   "outputs": [],
   "source": [
    "# Завантажуємо датасет\n",
    "path_csv = \"./IRIS.csv\"\n",
    "# Завантаження даних\n",
    "data = pd.read_csv(path_csv)"
   ]
  },
  {
   "cell_type": "code",
   "execution_count": 36,
   "metadata": {},
   "outputs": [],
   "source": [
    "# Розділяємо дані на ознаки та цільову змінну\n",
    "X = data[['sepal_length', 'sepal_width', 'petal_length', 'petal_width']].values\n",
    "# Перекодуємо рядкові мітки класів у числовий формат\n",
    "y = np.where(data['species'] == 'Iris-setosa', 1, -1)"
   ]
  },
  {
   "cell_type": "code",
   "execution_count": 37,
   "metadata": {},
   "outputs": [],
   "source": [
    "def svm(X, y):\n",
    "    # Ініціалізуємо параметри SVM: ваги, зсув і регуляризаційний параметр\n",
    "    w = np.zeros(X.shape[1])\n",
    "    b = 0\n",
    "    C = 1.0  # Регуляризаційний параметр\n",
    "\n",
    "    # Функція для обчислення відстані між точкою та гіперплощиною\n",
    "    def distance(x):\n",
    "        return np.dot(w, x) + b\n",
    "\n",
    "    # Функція для оновлення параметрів SVM\n",
    "    def update_params(x, target):\n",
    "        nonlocal w, b\n",
    "        w += C * target * x\n",
    "        b += C * target\n",
    "\n",
    "    # Функція для навчання SVM\n",
    "    def train(X, y):\n",
    "        num_samples, num_features = X.shape\n",
    "        learning_rate = 0.01\n",
    "        num_iterations = 1000\n",
    "\n",
    "        for _ in range(num_iterations):\n",
    "            for i in range(num_samples):\n",
    "                if y[i] * distance(X[i]) < 1:\n",
    "                    update_params(X[i], y[i])\n",
    "\n",
    "    # Навчаємо SVM\n",
    "    train(X, y)\n",
    "\n",
    "    return w, b\n",
    "\n",
    "# Функція для класифікації нового прикладу\n",
    "def predict(w, b, x):\n",
    "    if np.dot(w, x) + b > 0:\n",
    "        return 'Iris-setosa'\n",
    "    else:\n",
    "        return 'Iris-versicolor or Iris-virginica'"
   ]
  },
  {
   "cell_type": "code",
   "execution_count": 39,
   "metadata": {},
   "outputs": [
    {
     "name": "stdout",
     "output_type": "stream",
     "text": [
      "Predicted Class: Iris-versicolor or Iris-virginica\n"
     ]
    }
   ],
   "source": [
    "# Приклад використання:\n",
    "# Тестова точка\n",
    "# 6.2,2.2,4.5,1.5,Iris-versicolor\n",
    "test_point = np.array([6.2,2.2,4.5,1.5])\n",
    "\n",
    "# Навчаємо SVM та отримуємо параметри w та b\n",
    "w, b = svm(X, y)\n",
    "\n",
    "# Проводимо класифікацію тестової точки\n",
    "predicted_class = predict(w, b, test_point)\n",
    "print(\"Predicted Class:\", predicted_class)"
   ]
  }
 ],
 "metadata": {
  "kernelspec": {
   "display_name": "Python 3",
   "language": "python",
   "name": "python3"
  },
  "language_info": {
   "codemirror_mode": {
    "name": "ipython",
    "version": 3
   },
   "file_extension": ".py",
   "mimetype": "text/x-python",
   "name": "python",
   "nbconvert_exporter": "python",
   "pygments_lexer": "ipython3",
   "version": "3.11.2"
  },
  "orig_nbformat": 4
 },
 "nbformat": 4,
 "nbformat_minor": 2
}
