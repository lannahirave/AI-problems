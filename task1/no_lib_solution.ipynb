{
 "cells": [
  {
   "cell_type": "code",
   "execution_count": 36,
   "metadata": {},
   "outputs": [],
   "source": [
    "# Імпортуємо необхідні бібліотеки\n",
    "import pandas as pd\n",
    "import numpy as np"
   ]
  },
  {
   "cell_type": "code",
   "execution_count": 37,
   "metadata": {},
   "outputs": [],
   "source": [
    "# Завантажуємо датасет\n",
    "path_csv = \"./IRIS.csv\"\n",
    "# Завантаження даних\n",
    "data = pd.read_csv(path_csv)"
   ]
  },
  {
   "cell_type": "code",
   "execution_count": 38,
   "metadata": {},
   "outputs": [],
   "source": [
    "# Розділяємо дані на ознаки та цільову змінну\n",
    "X = data[[\"sepal_length\", \"sepal_width\", \"petal_length\", \"petal_width\"]].values\n",
    "y = data[\"species\"].values"
   ]
  },
  {
   "cell_type": "code",
   "execution_count": 39,
   "metadata": {},
   "outputs": [],
   "source": [
    "def euclidean_distance(point1, point2):\n",
    "    return np.sqrt(np.sum((point1 - point2) ** 2))"
   ]
  },
  {
   "cell_type": "code",
   "execution_count": 40,
   "metadata": {},
   "outputs": [],
   "source": [
    "# Функція для реалізації методу найближчих сусідів\n",
    "def k_nearest_neighbors(train_data, train_labels, test_point, k=3):\n",
    "    # Створення списку для зберігання відстаней від тестової точки до всіх навчальних точок\n",
    "    distances = []\n",
    "    for i in range(len(train_data)):\n",
    "        distance = euclidean_distance(test_point, train_data[i])\n",
    "        distances.append((distance, train_labels[i]))\n",
    "\n",
    "    # Сортування відстаней по зростанню та вибір k найменших відстаней\n",
    "    sorted_distances = sorted(distances, key=lambda x: x[0])\n",
    "    nearest_neighbors = sorted_distances[:k]\n",
    "\n",
    "    # Підрахунок голосів для кожного класу серед k найближчих сусідів\n",
    "    class_votes = {}\n",
    "    for neighbor in nearest_neighbors:\n",
    "        label = neighbor[1]\n",
    "        if label in class_votes:\n",
    "            class_votes[label] += 1\n",
    "        else:\n",
    "            class_votes[label] = 1\n",
    "\n",
    "    # Визначення класу з найбільшою кількістю голосів\n",
    "    predicted_class = max(class_votes, key=class_votes.get)\n",
    "\n",
    "    return predicted_class"
   ]
  },
  {
   "cell_type": "code",
   "execution_count": 41,
   "metadata": {},
   "outputs": [
    {
     "name": "stdout",
     "output_type": "stream",
     "text": [
      "Predicted Class: Iris-virginica\n"
     ]
    }
   ],
   "source": [
    "# Приклад використання:\n",
    "# Тестова точка\n",
    "# 6.3,2.9,5.6,1.8,Iris-virginica\n",
    "\n",
    "test_point = np.array([4.2, 2.7, 5.4, 1.6])\n",
    "\n",
    "# Виклик функції k-NN з k=3\n",
    "predicted_class = k_nearest_neighbors(X, y, test_point, k=3)\n",
    "print(\"Predicted Class:\", predicted_class)"
   ]
  }
 ],
 "metadata": {
  "kernelspec": {
   "display_name": "Python 3",
   "language": "python",
   "name": "python3"
  },
  "language_info": {
   "codemirror_mode": {
    "name": "ipython",
    "version": 3
   },
   "file_extension": ".py",
   "mimetype": "text/x-python",
   "name": "python",
   "nbconvert_exporter": "python",
   "pygments_lexer": "ipython3",
   "version": "3.11.2"
  },
  "orig_nbformat": 4
 },
 "nbformat": 4,
 "nbformat_minor": 2
}
